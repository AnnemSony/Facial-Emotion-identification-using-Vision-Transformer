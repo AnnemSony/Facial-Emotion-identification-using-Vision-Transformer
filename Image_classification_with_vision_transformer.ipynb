{
  "cells": [
    {
      "cell_type": "markdown",
      "metadata": {
        "id": "khwTIUDQ9sPP"
      },
      "source": [
        "# Image classification with Vision Transformer\n",
        "\n",
        "**Author:** [SONY ANNEM](https://www.linkedin.com/in/sony-annem-648273231/)<br>\n",
        "**Description:** Implementing the Vision Transformer (ViT) model for image classification."
      ]
    },
    {
      "cell_type": "code",
      "execution_count": 2,
      "metadata": {
        "colab": {
          "base_uri": "https://localhost:8080/"
        },
        "id": "a99JP16m-8hU",
        "outputId": "ceded30e-2ded-4637-ae80-11fbcaf65b99"
      },
      "outputs": [
        {
          "output_type": "stream",
          "name": "stdout",
          "text": [
            "Looking in indexes: https://pypi.org/simple, https://us-python.pkg.dev/colab-wheels/public/simple/\n",
            "Collecting tensorflow-addons\n",
            "  Downloading tensorflow_addons-0.18.0-cp37-cp37m-manylinux_2_17_x86_64.manylinux2014_x86_64.whl (1.1 MB)\n",
            "\u001b[K     |████████████████████████████████| 1.1 MB 36.0 MB/s \n",
            "\u001b[?25hRequirement already satisfied: typeguard>=2.7 in /usr/local/lib/python3.7/dist-packages (from tensorflow-addons) (2.7.1)\n",
            "Requirement already satisfied: packaging in /usr/local/lib/python3.7/dist-packages (from tensorflow-addons) (21.3)\n",
            "Requirement already satisfied: pyparsing!=3.0.5,>=2.0.2 in /usr/local/lib/python3.7/dist-packages (from packaging->tensorflow-addons) (3.0.9)\n",
            "Installing collected packages: tensorflow-addons\n",
            "Successfully installed tensorflow-addons-0.18.0\n"
          ]
        }
      ],
      "source": [
        "pip install -U tensorflow-addons"
      ]
    },
    {
      "cell_type": "code",
      "execution_count": 3,
      "metadata": {
        "colab": {
          "base_uri": "https://localhost:8080/"
        },
        "id": "tweNTbOY5d8s",
        "outputId": "8d929733-bd75-4cdf-9a7a-9e1225611df5"
      },
      "outputs": [
        {
          "output_type": "stream",
          "name": "stdout",
          "text": [
            "Mounted at /content/drive\n"
          ]
        }
      ],
      "source": [
        "from google.colab import drive\n",
        "drive.mount('/content/drive')"
      ]
    },
    {
      "cell_type": "code",
      "execution_count": 4,
      "metadata": {
        "id": "lSql7H1V9sPU"
      },
      "outputs": [],
      "source": [
        "import numpy as np\n",
        "import tensorflow as tf\n",
        "from tensorflow import keras\n",
        "from tensorflow.keras import layers\n",
        "import tensorflow_addons as tfa\n",
        "from keras.callbacks import EarlyStopping\n",
        "import pandas as pd\n",
        "import cv2\n",
        "from PIL import Image\n",
        "from tensorflow.keras.preprocessing import image\n",
        "from sklearn.model_selection import train_test_split\n",
        "from tensorflow.keras.preprocessing.image import ImageDataGenerator"
      ]
    },
    {
      "cell_type": "code",
      "execution_count": 5,
      "metadata": {
        "id": "Wo-B56bmx741"
      },
      "outputs": [],
      "source": [
        "#from tensorflow.keras.preprocessing.image import ImageDataGenerator\n",
        "train=ImageDataGenerator(rescale=1/255)\n",
        "test=ImageDataGenerator(rescale=1/255)"
      ]
    },
    {
      "cell_type": "code",
      "execution_count": null,
      "metadata": {
        "id": "a6HwgKIu1uZo"
      },
      "outputs": [],
      "source": [
        "#data=\"/content/drive/MyDrive/Dataset/train/\"\n",
        "#train_dataset=train.flow_from_directory('/content/drive/MyDrive/Dataset/train/',target_size=(200,200), batch_size=3, class_mode='binary')"
      ]
    },
    {
      "cell_type": "code",
      "execution_count": 6,
      "metadata": {
        "id": "NpzVtrcj418T"
      },
      "outputs": [],
      "source": [
        "import glob\n",
        "smile=glob.glob('/content/drive/MyDrive/Dataset/train/smile/*.*')\n",
        "non_smile=glob.glob('/content/drive/MyDrive/Dataset/train/non_smile/*.*')\n",
        "data=[]\n",
        "labels=[]\n",
        "for i in smile:   \n",
        "    image=tf.keras.preprocessing.image.load_img(i, color_mode='rgb', \n",
        "    target_size= (32,32))\n",
        "    image=np.array(image)\n",
        "    data.append(image)\n",
        "    labels.append(0)\n",
        "for i in non_smile:   \n",
        "    image=tf.keras.preprocessing.image.load_img(i, color_mode='rgb', \n",
        "    target_size= (32,32))\n",
        "    image=np.array(image)\n",
        "    data.append(image)\n",
        "    labels.append(1)  \n",
        "\n",
        "data=np.array(data)\n",
        "labels=np.array(labels)\n",
        "\n",
        "from sklearn.model_selection import train_test_split\n",
        "x_train, x_test, y_train, y_test = train_test_split(data, labels, test_size=0.2,\n",
        "                                                random_state=42)"
      ]
    },
    {
      "cell_type": "markdown",
      "metadata": {
        "id": "idfkNw3S9sPV"
      },
      "source": [
        "## Prepare the data"
      ]
    },
    {
      "cell_type": "markdown",
      "metadata": {
        "id": "ECmE4R8Y9sPW"
      },
      "source": [
        "## Configure the hyperparameters"
      ]
    },
    {
      "cell_type": "markdown",
      "source": [
        "I have taken dataset from kaggle repository and mpdified it like imporoving size of images by data augumentaion and added some custom images that belongs to my friends.\n",
        "In order to run this code we first need to  download and specify path of the dataset. "
      ],
      "metadata": {
        "id": "Z8-Wo5MqF7Wk"
      }
    },
    {
      "cell_type": "code",
      "execution_count": 7,
      "metadata": {
        "id": "rNlQf1TJ9sPW"
      },
      "outputs": [],
      "source": [
        "learning_rate = 0.001\n",
        "input_shape = (32, 32, 3)\n",
        "num_classes = 2\n",
        "weight_decay = 0.0001\n",
        "batch_size = 256\n",
        "num_epochs = 100\n",
        "image_size = 72  # We'll resize input images to this size\n",
        "patch_size = 6  # Size of the patches to be extract from the input images\n",
        "num_patches = (image_size // patch_size) ** 2\n",
        "projection_dim = 64\n",
        "num_heads = 4\n",
        "transformer_units = [\n",
        "    projection_dim * 2,\n",
        "    projection_dim,\n",
        "]  # Size of the transformer layers\n",
        "transformer_layers = 8\n",
        "mlp_head_units = [2048, 1024]  # Size of the dense layers of the final classifier\n"
      ]
    },
    {
      "cell_type": "markdown",
      "metadata": {
        "id": "1zaz6W7W9sPX"
      },
      "source": [
        "## Use data augmentation"
      ]
    },
    {
      "cell_type": "code",
      "execution_count": 8,
      "metadata": {
        "id": "7hzp32iw9sPX"
      },
      "outputs": [],
      "source": [
        "data_augmentation = keras.Sequential(\n",
        "    [\n",
        "        layers.Normalization(),\n",
        "        layers.Resizing(image_size, image_size),\n",
        "        layers.RandomFlip(\"horizontal\"),\n",
        "        layers.RandomRotation(factor=0.02),\n",
        "        layers.RandomZoom(\n",
        "            height_factor=0.2, width_factor=0.2\n",
        "        ),\n",
        "    ],\n",
        "    name=\"data_augmentation\",\n",
        ")\n",
        "# Compute the mean and the variance of the training data for normalization.\n",
        "data_augmentation.layers[0].adapt(x_train)\n"
      ]
    },
    {
      "cell_type": "markdown",
      "metadata": {
        "id": "vrb1ffpT9sPX"
      },
      "source": [
        "## Implement multilayer perceptron (MLP)"
      ]
    },
    {
      "cell_type": "code",
      "execution_count": 17,
      "metadata": {
        "id": "L1sjOEqK9sPY"
      },
      "outputs": [],
      "source": [
        "\n",
        "def mlp(x, hidden_units, dropout_rate):\n",
        "    for units in hidden_units:\n",
        "        x = layers.Dense(units, activation=tf.nn.gelu)(x)\n",
        "        x = layers.Dropout(dropout_rate)(x)\n",
        "    return x\n"
      ]
    },
    {
      "cell_type": "markdown",
      "metadata": {
        "id": "TpgHuLq4x3ep"
      },
      "source": []
    },
    {
      "cell_type": "markdown",
      "metadata": {
        "id": "tP-sBkLw9sPY"
      },
      "source": [
        "## Implement patch creation as a layer"
      ]
    },
    {
      "cell_type": "code",
      "execution_count": 18,
      "metadata": {
        "id": "YSRllMnX9sPY"
      },
      "outputs": [],
      "source": [
        "\n",
        "class Patches(layers.Layer):\n",
        "    def __init__(self, patch_size):\n",
        "        super(Patches, self).__init__()\n",
        "        self.patch_size = patch_size\n",
        "\n",
        "    def call(self, images):\n",
        "        batch_size = tf.shape(images)[0]\n",
        "        patches = tf.image.extract_patches(\n",
        "            images=images,\n",
        "            sizes=[1, self.patch_size, self.patch_size, 1],\n",
        "            strides=[1, self.patch_size, self.patch_size, 1],\n",
        "            rates=[1, 1, 1, 1],\n",
        "            padding=\"VALID\",\n",
        "        )\n",
        "        patch_dims = patches.shape[-1]\n",
        "        patches = tf.reshape(patches, [batch_size, -1, patch_dims])\n",
        "        return patches\n"
      ]
    },
    {
      "cell_type": "markdown",
      "metadata": {
        "id": "eXmqMeTb9sPZ"
      },
      "source": [
        "Let's display patches for a sample image"
      ]
    },
    {
      "cell_type": "code",
      "execution_count": 19,
      "metadata": {
        "colab": {
          "base_uri": "https://localhost:8080/",
          "height": 551
        },
        "id": "ORzzTjuk9sPZ",
        "outputId": "dd6fce80-ee43-472a-fd5a-711f96ba926a"
      },
      "outputs": [
        {
          "output_type": "stream",
          "name": "stdout",
          "text": [
            "Image size: 72 X 72\n",
            "Patch size: 6 X 6\n",
            "Patches per image: 144\n",
            "Elements per patch: 108\n"
          ]
        },
        {
          "output_type": "display_data",
          "data": {
            "text/plain": [
              "<Figure size 288x288 with 1 Axes>"
            ],
            "image/png": "[encoded data removed]"
          },
          "metadata": {
            "needs_background": "light"
          }
        },
        {
          "output_type": "display_data",
          "data": {
            "text/plain": [
              "<Figure size 288x288 with 144 Axes>"
            ],
            "image/png": "[encoded data removed]"
          },
          "metadata": {
            "needs_background": "light"
          }
        }
      ],
      "source": [
        "import matplotlib.pyplot as plt\n",
        "\n",
        "plt.figure(figsize=(4, 4))\n",
        "image = x_train[np.random.choice(range(x_train.shape[0]))]\n",
        "#image1= (\"/content/drive/MyDrive/WhatsApp Image 2022-11-04 at 10.53.22 AM.jpeg\")\n",
        "#image = x_train[np.random.choice(range(image))]\n",
        "#plt.imshow(image3)\n",
        "plt.imshow(image.astype(\"uint8\"))\n",
        "plt.axis(\"off\")\n",
        "\n",
        "resized_image = tf.image.resize(\n",
        "    tf.convert_to_tensor([image]), size=(image_size, image_size)\n",
        ")\n",
        "patches = Patches(patch_size)(resized_image)\n",
        "print(f\"Image size: {image_size} X {image_size}\")\n",
        "print(f\"Patch size: {patch_size} X {patch_size}\")\n",
        "print(f\"Patches per image: {patches.shape[1]}\")\n",
        "print(f\"Elements per patch: {patches.shape[-1]}\")\n",
        "\n",
        "n = int(np.sqrt(patches.shape[1]))\n",
        "plt.figure(figsize=(4, 4))\n",
        "for i, patch in enumerate(patches[0]):\n",
        "    ax = plt.subplot(n, n, i + 1)\n",
        "    patch_img = tf.reshape(patch, (patch_size, patch_size, 3))\n",
        "    #print(patch_img.shape)\n",
        "    plt.imshow(patch_img.numpy().astype(\"uint8\"))\n",
        "    plt.axis(\"off\")"
      ]
    },
    {
      "cell_type": "markdown",
      "metadata": {
        "id": "4MTYjZLF9sPZ"
      },
      "source": [
        "## Implement the patch encoding layer\n",
        "\n",
        "The `PatchEncoder` layer will linearly transform a patch by projecting it into a\n",
        "vector of size `projection_dim`. In addition, it adds a learnable position\n",
        "embedding to the projected vector."
      ]
    },
    {
      "cell_type": "code",
      "execution_count": 20,
      "metadata": {
        "id": "Fhp7_YnP9sPa"
      },
      "outputs": [],
      "source": [
        "\n",
        "class PatchEncoder(layers.Layer):\n",
        "    def __init__(self, num_patches, projection_dim):\n",
        "        super(PatchEncoder, self).__init__()\n",
        "        self.num_patches = num_patches\n",
        "        self.projection = layers.Dense(units=projection_dim)\n",
        "        self.position_embedding = layers.Embedding(\n",
        "            input_dim=num_patches, output_dim=projection_dim\n",
        "        )\n",
        "\n",
        "    def call(self, patch):\n",
        "        positions = tf.range(start=0, limit=self.num_patches, delta=1)\n",
        "        encoded = self.projection(patch) + self.position_embedding(positions)\n",
        "        return encoded\n",
        "\n"
      ]
    },
    {
      "cell_type": "markdown",
      "metadata": {
        "id": "4beeiflY9sPa"
      },
      "source": [
        "## Build the ViT model\n",
        "\n",
        "."
      ]
    },
    {
      "cell_type": "code",
      "execution_count": 21,
      "metadata": {
        "id": "4hWxGu399sPa"
      },
      "outputs": [],
      "source": [
        "\n",
        "def create_vit_classifier():\n",
        "    inputs = layers.Input(shape=input_shape)\n",
        "    # Augment data.\n",
        "    augmented = data_augmentation(inputs)\n",
        "    # Create patches.\n",
        "    patches = Patches(patch_size)(augmented)\n",
        "    # Encode patches.\n",
        "    encoded_patches = PatchEncoder(num_patches, projection_dim)(patches)\n",
        "\n",
        "    # Create multiple layers of the Transformer block.\n",
        "    for _ in range(transformer_layers):\n",
        "        # Layer normalization 1.\n",
        "        x1 = layers.LayerNormalization(epsilon=1e-6)(encoded_patches)\n",
        "        # Create a multi-head attention layer.\n",
        "        attention_output = layers.MultiHeadAttention(\n",
        "            num_heads=num_heads, key_dim=projection_dim, dropout=0.1\n",
        "        )(x1, x1)\n",
        "        # Skip connection 1.\n",
        "        x2 = layers.Add()([attention_output, encoded_patches])\n",
        "        # Layer normalization 2.\n",
        "        x3 = layers.LayerNormalization(epsilon=1e-6)(x2)\n",
        "        # MLP.\n",
        "        x3 = mlp(x3, hidden_units=transformer_units, dropout_rate=0.1)\n",
        "        # Skip connection 2.\n",
        "        encoded_patches = layers.Add()([x3, x2])\n",
        "        \n",
        "\n",
        "    # Create a [batch_size, projection_dim] tensor.\n",
        "    representation = layers.LayerNormalization(epsilon=1e-6)(encoded_patches)\n",
        "    representation = layers.Flatten()(representation)\n",
        "    representation = layers.Dropout(0.5)(representation)\n",
        "    # Add MLP.\n",
        "    features = mlp(representation, hidden_units=mlp_head_units, dropout_rate=0.5)\n",
        "    # Classify outputs.\n",
        "    logits = layers.Dense(num_classes)(features)\n",
        "    # Create the Keras model.\n",
        "    model = keras.Model(inputs=inputs, outputs=logits)\n",
        "    return model\n"
      ]
    },
    {
      "cell_type": "markdown",
      "metadata": {
        "id": "UmD98LGF9sPa"
      },
      "source": [
        "## Compile, train, and evaluate the mode"
      ]
    },
    {
      "cell_type": "code",
      "execution_count": 22,
      "metadata": {
        "colab": {
          "base_uri": "https://localhost:8080/"
        },
        "id": "AGmMDnPM9sPa",
        "outputId": "8b3e1cd8-9589-4336-a809-214d3128ab35"
      },
      "outputs": [
        {
          "output_type": "stream",
          "name": "stdout",
          "text": [
            "Epoch 1/100\n",
            "4/4 [==============================] - 15s 919ms/step - loss: 7.3472 - accuracy: 0.5126 - top-5-accuracy: 1.0000 - val_loss: 7.3357 - val_accuracy: 0.4742 - val_top-5-accuracy: 1.0000\n",
            "Epoch 2/100\n",
            "4/4 [==============================] - 1s 188ms/step - loss: 4.0306 - accuracy: 0.5722 - top-5-accuracy: 1.0000 - val_loss: 2.3338 - val_accuracy: 0.4742 - val_top-5-accuracy: 1.0000\n",
            "Epoch 3/100\n",
            "4/4 [==============================] - 1s 436ms/step - loss: 1.3519 - accuracy: 0.6044 - top-5-accuracy: 1.0000 - val_loss: 0.4785 - val_accuracy: 0.7732 - val_top-5-accuracy: 1.0000\n",
            "Epoch 4/100\n",
            "4/4 [==============================] - 1s 160ms/step - loss: 0.7105 - accuracy: 0.7087 - top-5-accuracy: 1.0000 - val_loss: 0.4926 - val_accuracy: 0.7216 - val_top-5-accuracy: 1.0000\n",
            "Epoch 5/100\n",
            "4/4 [==============================] - 1s 157ms/step - loss: 0.6444 - accuracy: 0.7236 - top-5-accuracy: 1.0000 - val_loss: 0.5706 - val_accuracy: 0.7732 - val_top-5-accuracy: 1.0000\n",
            "Epoch 6/100\n",
            "4/4 [==============================] - 2s 778ms/step - loss: 0.5111 - accuracy: 0.7890 - top-5-accuracy: 1.0000 - val_loss: 0.3986 - val_accuracy: 0.8351 - val_top-5-accuracy: 1.0000\n",
            "Epoch 7/100\n",
            "4/4 [==============================] - 1s 161ms/step - loss: 0.5247 - accuracy: 0.7993 - top-5-accuracy: 1.0000 - val_loss: 0.4272 - val_accuracy: 0.8041 - val_top-5-accuracy: 1.0000\n",
            "Epoch 8/100\n",
            "4/4 [==============================] - 1s 184ms/step - loss: 0.4205 - accuracy: 0.8337 - top-5-accuracy: 1.0000 - val_loss: 0.3900 - val_accuracy: 0.8351 - val_top-5-accuracy: 1.0000\n",
            "Epoch 9/100\n",
            "4/4 [==============================] - 1s 160ms/step - loss: 0.3731 - accuracy: 0.8440 - top-5-accuracy: 1.0000 - val_loss: 0.4069 - val_accuracy: 0.8041 - val_top-5-accuracy: 1.0000\n",
            "Epoch 10/100\n",
            "4/4 [==============================] - 1s 438ms/step - loss: 0.3794 - accuracy: 0.8360 - top-5-accuracy: 1.0000 - val_loss: 0.3508 - val_accuracy: 0.8557 - val_top-5-accuracy: 1.0000\n",
            "Epoch 11/100\n",
            "4/4 [==============================] - 1s 163ms/step - loss: 0.3900 - accuracy: 0.8337 - top-5-accuracy: 1.0000 - val_loss: 0.3807 - val_accuracy: 0.8351 - val_top-5-accuracy: 1.0000\n",
            "Epoch 12/100\n",
            "4/4 [==============================] - 1s 149ms/step - loss: 0.3050 - accuracy: 0.8681 - top-5-accuracy: 1.0000 - val_loss: 0.3716 - val_accuracy: 0.8144 - val_top-5-accuracy: 1.0000\n",
            "Epoch 13/100\n",
            "4/4 [==============================] - 1s 175ms/step - loss: 0.3372 - accuracy: 0.8589 - top-5-accuracy: 1.0000 - val_loss: 0.3445 - val_accuracy: 0.8454 - val_top-5-accuracy: 1.0000\n",
            "Epoch 14/100\n",
            "4/4 [==============================] - 1s 175ms/step - loss: 0.3352 - accuracy: 0.8544 - top-5-accuracy: 1.0000 - val_loss: 0.3146 - val_accuracy: 0.8557 - val_top-5-accuracy: 1.0000\n",
            "Epoch 15/100\n",
            "4/4 [==============================] - 1s 151ms/step - loss: 0.3188 - accuracy: 0.8647 - top-5-accuracy: 1.0000 - val_loss: 0.3215 - val_accuracy: 0.8557 - val_top-5-accuracy: 1.0000\n",
            "Epoch 16/100\n",
            "4/4 [==============================] - 1s 158ms/step - loss: 0.2787 - accuracy: 0.8830 - top-5-accuracy: 1.0000 - val_loss: 0.3169 - val_accuracy: 0.8454 - val_top-5-accuracy: 1.0000\n",
            "Epoch 17/100\n",
            "4/4 [==============================] - 1s 159ms/step - loss: 0.2671 - accuracy: 0.8865 - top-5-accuracy: 1.0000 - val_loss: 0.3152 - val_accuracy: 0.8351 - val_top-5-accuracy: 1.0000\n",
            "Epoch 18/100\n",
            "4/4 [==============================] - 1s 427ms/step - loss: 0.2724 - accuracy: 0.8773 - top-5-accuracy: 1.0000 - val_loss: 0.2977 - val_accuracy: 0.8763 - val_top-5-accuracy: 1.0000\n",
            "Epoch 19/100\n",
            "4/4 [==============================] - 1s 158ms/step - loss: 0.2853 - accuracy: 0.8773 - top-5-accuracy: 1.0000 - val_loss: 0.2994 - val_accuracy: 0.8763 - val_top-5-accuracy: 1.0000\n",
            "Epoch 20/100\n",
            "4/4 [==============================] - 1s 153ms/step - loss: 0.2523 - accuracy: 0.8945 - top-5-accuracy: 1.0000 - val_loss: 0.3476 - val_accuracy: 0.8557 - val_top-5-accuracy: 1.0000\n",
            "Epoch 21/100\n",
            "4/4 [==============================] - 1s 153ms/step - loss: 0.2640 - accuracy: 0.9002 - top-5-accuracy: 1.0000 - val_loss: 0.3321 - val_accuracy: 0.8351 - val_top-5-accuracy: 1.0000\n",
            "Epoch 22/100\n",
            "4/4 [==============================] - 1s 147ms/step - loss: 0.2373 - accuracy: 0.8979 - top-5-accuracy: 1.0000 - val_loss: 0.3201 - val_accuracy: 0.8763 - val_top-5-accuracy: 1.0000\n",
            "Epoch 23/100\n",
            "4/4 [==============================] - 1s 171ms/step - loss: 0.2291 - accuracy: 0.9117 - top-5-accuracy: 1.0000 - val_loss: 0.3140 - val_accuracy: 0.8660 - val_top-5-accuracy: 1.0000\n",
            "8/8 [==============================] - 0s 15ms/step - loss: 0.1907 - accuracy: 0.9012 - top-5-accuracy: 1.0000\n",
            "Test accuracy: 90.12%\n"
          ]
        }
      ],
      "source": [
        "#from IPython.core import history\n",
        "def run_experiment(model):\n",
        "    optimizer = tfa.optimizers.AdamW(\n",
        "        learning_rate=learning_rate, weight_decay=weight_decay\n",
        "    )\n",
        "\n",
        "    model.compile(\n",
        "        optimizer=optimizer,\n",
        "        loss=keras.losses.SparseCategoricalCrossentropy(from_logits=True),\n",
        "        metrics=[\n",
        "            keras.metrics.SparseCategoricalAccuracy(name=\"accuracy\"),\n",
        "            keras.metrics.SparseTopKCategoricalAccuracy(5, name=\"top-5-accuracy\"),\n",
        "        ],\n",
        "    )\n",
        "\n",
        "    checkpoint_filepath = \"/tmp/checkpoint\"\n",
        "    checkpoint_callback = keras.callbacks.ModelCheckpoint(\n",
        "        checkpoint_filepath,\n",
        "        monitor=\"val_accuracy\",\n",
        "        save_best_only=True,\n",
        "        save_weights_only=True,\n",
        "    )\n",
        "    early_stopper=tf.keras.callbacks.EarlyStopping(monitor='val_loss', patience=5, restore_best_weights=True)\n",
        "\n",
        "    history=model.fit(\n",
        "        x=x_train,\n",
        "        y=y_train,\n",
        "        batch_size=batch_size,\n",
        "        epochs=num_epochs,\n",
        "        validation_split=0.1,\n",
        "        callbacks=[checkpoint_callback, early_stopper],\n",
        "    )\n",
        "\n",
        "    model.load_weights(checkpoint_filepath)\n",
        "    _, accuracy, top_5_accuracy = model.evaluate(x_test, y_test)\n",
        "    print(f\"Test accuracy: {round(accuracy * 100, 2)}%\")\n",
        "    return history\n",
        "   # print(f\"Test top 5 accuracy: {round(top_5_accuracy * 100, 2)}%\")\n",
        "#     from keras.utils import load_img\n",
        "#     import cv2\n",
        "#     from tensorflow.keras.utils import img_to_array\n",
        "    \n",
        "#     i=cv2.imread(\"/content/drive/MyDrive/WhatsApp Image 2022-10-30 at 12.05.52 AM.jpeg\")\n",
        "#     from keras.preprocessing import image\n",
        "#     p = img_to_array(load_img(\"/content/drive/MyDrive/WhatsApp Image 2022-10-30 at 12.05.52 AM.jpeg\", target_size=(32,32))) / 255\n",
        "\n",
        "# #i=i.resize(32,32)\n",
        "# #p=cv2.resize(i, (32,32))\n",
        "# #p=img_to_array(i)\n",
        "#     p=np.expand_dims(p, axis=0)\n",
        "\n",
        "# #p\n",
        "#     p=p.astype(\"uint8\")\n",
        "\n",
        "#     plt.imshow(i)\n",
        "#     result=model.predict(p)\n",
        "#     print(result)\n",
        "#     if (result==0).any():\n",
        "#       print(\"Sad\")\n",
        "#     else:\n",
        "#      print(\"Happy\")\n",
        "\n",
        "\n",
        "\n",
        "#     return model\n",
        "#print(model.summary)\n",
        "    #return model\n",
        "\n",
        "\n",
        "vit_classifier = create_vit_classifier()\n",
        "history= run_experiment(vit_classifier)\n",
        "#print(model)\n"
      ]
    },
    {
      "cell_type": "markdown",
      "source": [
        "Dataset is small so it will leads to over fitting ptoblem"
      ],
      "metadata": {
        "id": "3-SG9WNIJHnJ"
      }
    },
    {
      "cell_type": "code",
      "execution_count": 16,
      "metadata": {
        "colab": {
          "base_uri": "https://localhost:8080/",
          "height": 545
        },
        "id": "sinewZ9tV4-o",
        "outputId": "2f1bba1a-1fe5-48c3-dda3-18bb1d687aa6"
      },
      "outputs": [
        {
          "output_type": "display_data",
          "data": {
            "text/plain": [
              "<Figure size 432x288 with 1 Axes>"
            ],
            "image/png": "[encoded data removed]"
          },
          "metadata": {
            "needs_background": "light"
          }
        },
        {
          "output_type": "display_data",
          "data": {
            "text/plain": [
              "<Figure size 432x288 with 1 Axes>"
            ],
            "image/png": "[encoded data removed]"
          },
          "metadata": {
            "needs_background": "light"
          }
        }
      ],
      "source": [
        "plt.plot(history.history['val_loss'])\n",
        "plt.title(\"loss\")\n",
        "plt.show()\n",
        "plt.plot(history.history['val_accuracy'])\n",
        "plt.title(\"accuracy\")\n",
        "plt.show()"
      ]
    },
    {
      "cell_type": "code",
      "source": [
        "from tensorflow.keras.models import Sequential\n",
        "from tensorflow.keras.layers import Conv2D,Dense,Flatten,MaxPooling2D,Dropout,BatchNormalization\n",
        "from tensorflow.keras.callbacks import EarlyStopping"
      ],
      "metadata": {
        "id": "FgMhJ664pY2y"
      },
      "execution_count": 1,
      "outputs": []
    },
    {
      "cell_type": "code",
      "source": [
        "model = Sequential([Conv2D(128,(3,3),activation=\"relu\",input_shape= x_train.shape[1:]),\n",
        "                    MaxPooling2D((2,2)),\n",
        "                    Dropout(0.3),\n",
        "                    BatchNormalization(),\n",
        "                    Conv2D(64,(3,3),activation=\"relu\"),\n",
        "                    MaxPooling2D((2,2)),\n",
        "                    Conv2D(64,(3,3),activation=\"relu\"),\n",
        "                    Flatten(),\n",
        "                    Dense(128,activation=\"relu\"),\n",
        "                    Dropout(0.3),\n",
        "                    BatchNormalization(),\n",
        "                    Dense(128,activation=\"relu\"),\n",
        "                    Dense(1,activation=\"sigmoid\")])\n",
        "model.compile(optimizer=\"adam\",loss=\"binary_crossentropy\",metrics=[\"accuracy\"])\n",
        "model.summary()"
      ],
      "metadata": {
        "colab": {
          "base_uri": "https://localhost:8080/"
        },
        "id": "TqfhMqlNpAdQ",
        "outputId": "7ffa0413-af8a-4c1e-d531-51631658916f"
      },
      "execution_count": 10,
      "outputs": [
        {
          "output_type": "stream",
          "name": "stdout",
          "text": [
            "Model: \"sequential\"\n",
            "_________________________________________________________________\n",
            " Layer (type)                Output Shape              Param #   \n",
            "=================================================================\n",
            " conv2d (Conv2D)             (None, 30, 30, 128)       3584      \n",
            "                                                                 \n",
            " max_pooling2d (MaxPooling2D  (None, 15, 15, 128)      0         \n",
            " )                                                               \n",
            "                                                                 \n",
            " dropout (Dropout)           (None, 15, 15, 128)       0         \n",
            "                                                                 \n",
            " batch_normalization (BatchN  (None, 15, 15, 128)      512       \n",
            " ormalization)                                                   \n",
            "                                                                 \n",
            " conv2d_1 (Conv2D)           (None, 13, 13, 64)        73792     \n",
            "                                                                 \n",
            " max_pooling2d_1 (MaxPooling  (None, 6, 6, 64)         0         \n",
            " 2D)                                                             \n",
            "                                                                 \n",
            " conv2d_2 (Conv2D)           (None, 4, 4, 64)          36928     \n",
            "                                                                 \n",
            " flatten (Flatten)           (None, 1024)              0         \n",
            "                                                                 \n",
            " dense (Dense)               (None, 128)               131200    \n",
            "                                                                 \n",
            " dropout_1 (Dropout)         (None, 128)               0         \n",
            "                                                                 \n",
            " batch_normalization_1 (Batc  (None, 128)              512       \n",
            " hNormalization)                                                 \n",
            "                                                                 \n",
            " dense_1 (Dense)             (None, 128)               16512     \n",
            "                                                                 \n",
            " dense_2 (Dense)             (None, 1)                 129       \n",
            "                                                                 \n",
            "=================================================================\n",
            "Total params: 263,169\n",
            "Trainable params: 262,657\n",
            "Non-trainable params: 512\n",
            "_________________________________________________________________\n"
          ]
        }
      ]
    },
    {
      "cell_type": "code",
      "source": [
        "\n",
        "callback = EarlyStopping(patience=5)"
      ],
      "metadata": {
        "id": "rCd2NNmv7hYH"
      },
      "execution_count": 14,
      "outputs": []
    },
    {
      "cell_type": "code",
      "source": [
        "train_hist = model.fit(x_train,y_train,epochs=100,batch_size=8,callbacks=[callback],validation_split=0.1)"
      ],
      "metadata": {
        "colab": {
          "base_uri": "https://localhost:8080/"
        },
        "id": "9Sfq-Zw46-D_",
        "outputId": "519cf446-988a-4222-f144-20a5def1d404"
      },
      "execution_count": 15,
      "outputs": [
        {
          "output_type": "stream",
          "name": "stdout",
          "text": [
            "Epoch 1/80\n",
            "109/109 [==============================] - 1s 5ms/step - loss: 0.2449 - accuracy: 0.9002 - val_loss: 0.1650 - val_accuracy: 0.9175\n",
            "Epoch 2/80\n",
            "109/109 [==============================] - 1s 6ms/step - loss: 0.2065 - accuracy: 0.9243 - val_loss: 0.3160 - val_accuracy: 0.8763\n",
            "Epoch 3/80\n",
            "109/109 [==============================] - 1s 5ms/step - loss: 0.1785 - accuracy: 0.9438 - val_loss: 0.1629 - val_accuracy: 0.9381\n",
            "Epoch 4/80\n",
            "109/109 [==============================] - 1s 5ms/step - loss: 0.1953 - accuracy: 0.9300 - val_loss: 0.1401 - val_accuracy: 0.9588\n",
            "Epoch 5/80\n",
            "109/109 [==============================] - 1s 5ms/step - loss: 0.1708 - accuracy: 0.9438 - val_loss: 0.1789 - val_accuracy: 0.9381\n",
            "Epoch 6/80\n",
            "109/109 [==============================] - 1s 5ms/step - loss: 0.1472 - accuracy: 0.9518 - val_loss: 0.1933 - val_accuracy: 0.9175\n",
            "Epoch 7/80\n",
            "109/109 [==============================] - 1s 5ms/step - loss: 0.3360 - accuracy: 0.8761 - val_loss: 0.6849 - val_accuracy: 0.7113\n",
            "Epoch 8/80\n",
            "109/109 [==============================] - 1s 5ms/step - loss: 0.3386 - accuracy: 0.8647 - val_loss: 0.4637 - val_accuracy: 0.7938\n",
            "Epoch 9/80\n",
            "109/109 [==============================] - 1s 5ms/step - loss: 0.3019 - accuracy: 0.8624 - val_loss: 0.2681 - val_accuracy: 0.9278\n"
          ]
        }
      ]
    },
    {
      "cell_type": "code",
      "source": [
        "model.evaluate(x_test,y_test)"
      ],
      "metadata": {
        "colab": {
          "base_uri": "https://localhost:8080/"
        },
        "id": "dxXYXUyU6-Hi",
        "outputId": "4069c662-4dc3-49ef-b756-714439bdf327"
      },
      "execution_count": 16,
      "outputs": [
        {
          "output_type": "stream",
          "name": "stdout",
          "text": [
            "8/8 [==============================] - 0s 3ms/step - loss: 0.2475 - accuracy: 0.9342\n"
          ]
        },
        {
          "output_type": "execute_result",
          "data": {
            "text/plain": [
              "[0.24750865995883942, 0.9341563582420349]"
            ]
          },
          "metadata": {},
          "execution_count": 16
        }
      ]
    }
  ],
  "metadata": {
    "accelerator": "GPU",
    "colab": {
      "provenance": []
    },
    "environment": {
      "name": "tf2-gpu.2-4.m61",
      "type": "gcloud",
      "uri": "gcr.io/deeplearning-platform-release/tf2-gpu.2-4:m61"
    },
    "gpuClass": "premium",
    "kernelspec": {
      "display_name": "Python 3",
      "language": "python",
      "name": "python3"
    },
    "language_info": {
      "codemirror_mode": {
        "name": "ipython",
        "version": 3
      },
      "file_extension": ".py",
      "mimetype": "text/x-python",
      "name": "python",
      "nbconvert_exporter": "python",
      "pygments_lexer": "ipython3",
      "version": "3.7.9"
    }
  },
  "nbformat": 4,
  "nbformat_minor": 0
}